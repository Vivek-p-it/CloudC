import pandas as pd

def calculate_score(data, weights):
    score = 0
    for criterion, value in data.items():
        score += value * weights[criterion]
    return score

def shortlist_students(csv_file):
    df = pd.read_csv(csv_file)

    weights = {'CGPA': 0.3, 'ExpectedSalary': 0.2, 'FamilyIncome': 0.1, 'PythonExperience': 0.4}

    if df['ExpectedSalary'].dtype == 'object':
        df['ExpectedSalary'] = pd.to_numeric(df['ExpectedSalary'], errors='coerce')
    df['ExpectedSalary'] /= 10

    df['Score'] = df.apply(lambda row: calculate_score(row, weights), axis=1)

    filtered_df = df[df['Score'] > 5]

    return filtered_df

csv_file = 'Shortdata.csv'
shortlisted_students = shortlist_students(csv_file)
print(shortlisted_students)